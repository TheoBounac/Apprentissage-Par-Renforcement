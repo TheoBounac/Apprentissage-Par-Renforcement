{
 "cells": [
  {
   "cell_type": "markdown",
   "id": "2a84a631-9de2-4697-8f58-9e681f38a34a",
   "metadata": {},
   "source": [
    "### <span style=\"color: green;\">Importations</span>"
   ]
  },
  {
   "cell_type": "code",
   "execution_count": 2,
   "id": "a64b4c2e-5256-44aa-9641-3e0bef8b368e",
   "metadata": {},
   "outputs": [
    {
     "name": "stderr",
     "output_type": "stream",
     "text": [
      "/home/the/anaconda3/envs/Minigrid/lib/python3.10/site-packages/gym/envs/registration.py:307: DeprecationWarning: The package name gym_minigrid has been deprecated in favor of minigrid. Please uninstall gym_minigrid and install minigrid with `pip install minigrid`. Future releases will be maintained under the new package name minigrid.\n",
      "  fn()\n"
     ]
    }
   ],
   "source": [
    "import gymnasium as gym            # Pour l'environnement\n",
    "import numpy as np                 # Pour les calculs\n",
    "import matplotlib.pyplot as plt    # Pour les graphes\n",
    "from collections import deque      # Pour le memory buffer\n",
    "import random                      # Pour le epsilon greedy\n",
    "import torch                       # Pour les reseaux de neuronnes et fonction de retropropagation\n",
    "from torch import nn               #\n",
    "import torch.nn.functional as F    #\n",
    "from tqdm import tqdm              # Pour le trace de la barre de progres"
   ]
  },
  {
   "cell_type": "markdown",
   "id": "a5bb1477-b998-4174-9a8c-50be46e2b40f",
   "metadata": {},
   "source": [
    "<div style=\"text-align: center;\">\n",
    "    <h1>Algorithme de Deep Q-Network</h1>\n",
    "</div>"
   ]
  },
  {
   "cell_type": "markdown",
   "id": "32fd3f13-a5ff-47c0-b989-62a35f2f7c9f",
   "metadata": {},
   "source": [
    "### Classe des reseaux de neuronnes (2 reseaux de neuronnes: Q-training et Q-target)"
   ]
  },
  {
   "cell_type": "code",
   "execution_count": 3,
   "id": "03ae3621-15b3-45e9-9fea-7745d44436b4",
   "metadata": {},
   "outputs": [],
   "source": [
    "class DQN(nn.Module):\n",
    "    def __init__(self):\n",
    "        super(DQN, self).__init__()\n",
    "        self.conv1 = nn.Conv2d(in_channels=3, out_channels=16, kernel_size=3, stride=1, padding=1)\n",
    "        self.conv2 = nn.Conv2d(in_channels=16, out_channels=32, kernel_size=3, stride=1, padding=1)\n",
    "        self.fc1 = nn.Linear(32 * 7 * 7, 256)  # Aplatir la sortie des convolutions\n",
    "        self.fc2 = nn.Linear(256, 3)  # Nombre d'actions toujours égal à 3\n",
    "\n",
    "    def forward(self, x):\n",
    "        x = F.relu(self.conv1(x))\n",
    "        x = F.relu(self.conv2(x))\n",
    "        x = x.view(x.size(0), -1)  # Aplatir le tenseur pour la couche entièrement connectée\n",
    "        x = F.relu(self.fc1(x))\n",
    "        x = self.fc2(x)\n",
    "        return x"
   ]
  },
  {
   "cell_type": "markdown",
   "id": "b9dc75ab-3877-451b-80bd-4b4d3863cb1f",
   "metadata": {},
   "source": [
    "### Classe du Replay buffer"
   ]
  },
  {
   "cell_type": "code",
   "execution_count": 4,
   "id": "3ce589dd-8909-45f6-89b1-f9cda527ef7d",
   "metadata": {},
   "outputs": [],
   "source": [
    "# Definition du memory buffer\n",
    "class ReplayMemory():\n",
    "    def __init__(self, maxlen):\n",
    "        self.memory = deque([], maxlen=maxlen)\n",
    "    \n",
    "    def append(self, transition):\n",
    "        self.memory.append(transition)\n",
    "\n",
    "    def sample(self, sample_size):   # pour obtenir un echantillon de taille sample_size de la memoire\n",
    "        return random.sample(self.memory, sample_size)\n",
    "\n",
    "    def __len__(self):\n",
    "        return len(self.memory)"
   ]
  },
  {
   "cell_type": "markdown",
   "id": "5a30916f-a775-4b51-9655-e7a2bff4254a",
   "metadata": {},
   "source": [
    "### Classe Environnement"
   ]
  },
  {
   "cell_type": "code",
   "execution_count": 4,
   "id": "9d1065e6-1c05-49c0-93e6-13df203b7080",
   "metadata": {},
   "outputs": [],
   "source": [
    "import gymnasium as gym\n",
    "import minigrid\n",
    "env = gym.make(\"MiniGrid-Empty-5x5-v0\", render_mode=\"human\")\n",
    "observation, info = env.reset(seed=42)\n",
    "\n",
    "\n",
    "Rewards=[]\n",
    "Terminated=[]\n",
    "Truncated=[]\n",
    "Info=[]\n",
    "Actions=[2,2,1,2,2,2,1,2,1,1,2]\n",
    "\n",
    "# Créer l'environnement MiniGrid avec un rendu visuel\n",
    "for action in Actions:\n",
    "    observation, reward, terminated, truncated, info = env.step(action)\n",
    "    Rewards.append(reward)\n",
    "    Truncated.append(truncated)\n",
    "    Terminated.append(terminated)\n",
    "    Info.append(info)\n",
    "    \n",
    "      \n",
    "env.close()"
   ]
  },
  {
   "cell_type": "code",
   "execution_count": 5,
   "id": "c741cb7c-c742-4a49-8616-26a6aa75f614",
   "metadata": {},
   "outputs": [
    {
     "data": {
      "text/plain": [
       "Dict('direction': Discrete(4), 'image': Box(0, 255, (7, 7, 3), uint8), 'mission': MissionSpace(<function EmptyEnv._gen_mission at 0x7efd74336290>, None))"
      ]
     },
     "execution_count": 5,
     "metadata": {},
     "output_type": "execute_result"
    }
   ],
   "source": [
    " env.observation_space"
   ]
  },
  {
   "cell_type": "code",
   "execution_count": 21,
   "id": "43c8731e-16d2-41cf-9e7d-5f4bac7e64bc",
   "metadata": {},
   "outputs": [],
   "source": [
    "class Minigrid():\n",
    "    \n",
    "    # Hyperparametres (ajustables)\n",
    "    learning_rate_a = 0.001         # Facteur d'apprentissage (learning rate, alpha)\n",
    "    discount_factor_g = 0.9         # Facteur d'actualisation (discount rate, gamma)\n",
    "    replay_memory_size = 1000       # Taille de la mémoire de replay\n",
    "    network_sync_rate = 10          # Nombre d'étapes que l'agent effectue avant de synchroniser le Q-training et le Q-target\n",
    "    mini_batch_size = 32            # Nombre de transitions effectuées et stockées dans le buffer pour constituer un mini-batch\n",
    "                                    # après avoir été mélangé\n",
    "    # Reseaux de Neuronnes\n",
    "    loss_fn = nn.MSELoss()          # RN: fonction de perte (Loss) MSE=Mean Squared Error \n",
    "    optimizer = None                # RN: Optimizer. Initialize later.\n",
    "\n",
    "    # Pour Print 0,1,2 => Left, Right, Forward\n",
    "    ACTIONS = ['Left', 'Right', 'Forward']    \n",
    "\n",
    "\n",
    "#################################################################################################################################\n",
    "########################## Fonction d'Entainement qui va effectuer plusieurs Tests sous forme   ################################# \n",
    "########################## d'Episodes et ainsi Ameliore la Policy de L'Agent au fur et à mesure #################################\n",
    "#################################################################################################################################\n",
    "    \n",
    "    # Entraîner dans l'environnement\n",
    "    def train(self, episodes, render=\"rgb_array\"):\n",
    "        \n",
    "        # Créer l'environnement MiniGrid avec un rendu visuel\n",
    "        env = gym.make(\"MiniGrid-Empty-5x5-v0\", render_mode=render)\n",
    "        observation, info = env.reset(seed=42)\n",
    "        epsilon = 1  # 1 = 100% actions aléatoires au départ, puis qui va progressivement diminuer au fil des test\n",
    "        \n",
    "        # Création du memory Buffer\n",
    "        memory = ReplayMemory(self.replay_memory_size) \n",
    "\n",
    "        # Création des réseaux de neurones training et target\n",
    "        training_dqn = DQN() \n",
    "        target_dqn = DQN()   \n",
    "        # Au démarrage, les 2 réseaux de neurones sont identiques (copie de biais/poids de training vers target)\n",
    "        target_dqn.load_state_dict(training_dqn.state_dict())\n",
    "\n",
    "        # L'optimizer du réseau de training, choisi en Adam mais peut être changé\n",
    "        self.optimizer = torch.optim.Adam(training_dqn.parameters(), lr=self.learning_rate_a)\n",
    "\n",
    "        # Liste des récompenses à garder au fil des épisodes. Initialisée comme une liste de zéros.\n",
    "        rewards_per_episode = np.zeros(episodes)\n",
    "        rewards = 0\n",
    "\n",
    "        # Liste des epsilones à conserver\n",
    "        epsilon_history = []\n",
    "\n",
    "        # Information du nombre d'étapes effectuées. Pour synchroniser: Target <= Training\n",
    "        step_count = 0\n",
    "\n",
    "        ############################################### Training ################################################################\n",
    "        for i in tqdm(range(episodes), desc=\"Entraînement\"):\n",
    "            observation, info = env.reset(seed=42)  # Initialise l'agent à l'état 0 qui correspond à la case en haut à gauche\n",
    "            \n",
    "            # Transformer l'observation en format adapté au CNN\n",
    "            state = torch.tensor(observation['image'], dtype=torch.float32).permute(2, 0, 1).unsqueeze(0)  # format (1, 3, 7, 7)\n",
    "            \n",
    "            terminated = False  # True quand l'agent arrive au bout\n",
    "            truncated = False   # True quand l'agent fait plus de 200 actions (qu'il se perd)   \n",
    "\n",
    "            ################################# On entre dans la boucle d'un Episode ##################################\n",
    "            # L'agent effectue des transitions jusqu'a ce qu'il arrive au bout ou se perde             \n",
    "            while(not terminated and not truncated):\n",
    "                \n",
    "                # 1. L'agent choisit une action selon sa behavior policy qui est ici un epsilon greedy\n",
    "                if random.random() < epsilon:\n",
    "                    # Action Aleatoire               \n",
    "                    action = random.randint(0, 2) # actions: 0=left,1=down,2=right,3=up\n",
    "                else:\n",
    "                    # Action Optimale            \n",
    "                    with torch.no_grad():\n",
    "                        action = training_dqn(state).argmax().item()\n",
    "\n",
    "                # 2. Exécuter l'action dans l'environnement\n",
    "                new_observation, reward, terminated, truncated, _ = env.step(action)\n",
    "\n",
    "                # 3. Transformer la nouvelle observation en format compatible avec le CNN\n",
    "                new_state = torch.tensor(new_observation['image'], dtype=torch.float32).permute(2, 0, 1).unsqueeze(0)\n",
    "        \n",
    "                # 4. Stocker la transition dans le Replay Buffer\n",
    "                memory.append((state, action, reward, new_state, terminated)) \n",
    "\n",
    "                # 5. Entraîner le réseau si suffisamment d'expériences sont disponibles\n",
    "                if len(memory) > self.mini_batch_size:\n",
    "                    mini_batch = memory.sample(self.mini_batch_size)     # Échantillonner un mini-batch\n",
    "                    self.optimize(mini_batch, training_dqn, target_dqn)  # Optimiser le réseau\n",
    "\n",
    "                # 6. Mettre à jour l'état actuel pour la prochaine itération\n",
    "                state = new_state\n",
    "                \n",
    "                # 7. Compter le nombre d'actions réalisées\n",
    "                step_count += 1\n",
    "            #################################### On sort de l'Episode ################################################\n",
    "            \n",
    "            # Stocker la récompense obtenue dans cet épisode\n",
    "            rewards = rewards + reward\n",
    "            rewards_per_episode[i] = rewards      \n",
    "\n",
    "            # Décroître l'epsilon pour favoriser l'exploitation\n",
    "            epsilon = max(epsilon - 1/episodes, 0)\n",
    "            epsilon_history.append(epsilon)\n",
    "            \n",
    "            # Synchroniser le Target Network avec le Training Network en fonction du network_sync_rate\n",
    "            if i % self.network_sync_rate == 0:\n",
    "                target_dqn.load_state_dict(training_dqn.state_dict())\n",
    "        ########################################################################################################################\n",
    "\n",
    "        # Ferme l'environment\n",
    "        env.close()\n",
    "\n",
    "        # Sauvegarder le Training Network\n",
    "        torch.save(training_dqn.state_dict(), \"Minigrid.pt\")\n",
    "\n",
    "        # Tracer des recompenses (Y-axis) vs Episodes (X-axis)\n",
    "        plt.plot(rewards_per_episode)\n",
    "        plt.title(\"Récompenses par épisode\")\n",
    "        plt.xlabel(\"Épisode\")\n",
    "        plt.ylabel(\"Récompense\")\n",
    "        plt.show()\n",
    "        \n",
    "        # Tracer Epsilon(Y-axis) vs Episodes (X-axis)\n",
    "        plt.plot(epsilon_history)\n",
    "        plt.show()\n",
    "\n",
    "\n",
    "\n",
    "\n",
    "#################################################################################################################################\n",
    "########################## Fonction d'Optimisation qui va effectuer une retropropagation sur le ################################# \n",
    "##########################        Training Network à partir d'un mini Batch de 32 tests         #################################\n",
    "#################################################################################################################################\n",
    "\n",
    "    # Fonction de rétropropagation du training Network\n",
    "    def optimize(self, mini_batch, training_dqn, target_dqn):\n",
    "        # Initialisation des listes pour les Q-values courantes et cibles\n",
    "        current_q_list = []\n",
    "        target_q_list = []\n",
    "\n",
    "        ######################################## Formule des Deep Q Network ###############################################\n",
    "        for state, action, reward, new_state, terminated in mini_batch:\n",
    "\n",
    "            # Obtenir les valeurs Q courantes pour l'état actuel\n",
    "            current_q = training_dqn(state)  # Ici, state_tensor est de la forme (1, 3, 7, 7)\n",
    "            current_q_list.append(current_q)\n",
    "\n",
    "            if terminated:\n",
    "                # Si l'état est terminé, la valeur cible est simplement la récompense\n",
    "                target = torch.FloatTensor([reward])  # Convertir la récompense en tenseur\n",
    "            else:\n",
    "                # Sinon, calculer la valeur cible en utilisant le réseau cible\n",
    "                with torch.no_grad():\n",
    "                    # Calculer la valeur cible\n",
    "                    target = reward + self.discount_factor_g * target_dqn(new_state).max()\n",
    "                    target = torch.FloatTensor([target])  # Convertir en tenseur\n",
    "\n",
    "            # Obtenir les valeurs Q cibles pour l'état actuel\n",
    "            target_q = current_q.clone()  # Créer une copie des valeurs Q courantes\n",
    "            target_q[0][action] = target  # Ajuster l'action correspondante à la valeur cible\n",
    "            target_q_list.append(target_q)\n",
    "        ###################################################################################################################\n",
    "\n",
    "        # Calculer la perte pour le mini-batch entier\n",
    "        loss = self.loss_fn(torch.stack(current_q_list), torch.stack(target_q_list))\n",
    "\n",
    "        # Optimiser le modèle\n",
    "        self.optimizer.zero_grad()\n",
    "        loss.backward()\n",
    "        self.optimizer.step()\n",
    "\n",
    "\n",
    "\n",
    "#################################################################################################################################\n",
    "############################## Fonction de Test qui affiche en temps reel les essaies et qui  ################################### \n",
    "##############################            s'appuit sur la Politique entrainee                 ###################################\n",
    "#################################################################################################################################\n",
    "\n",
    "    # Fonction de Test avec la politique apprise\n",
    "    def test(self, episodes, render=\"human\"):\n",
    "        # Créer l'environnement MiniGrid avec le rendu souhaité\n",
    "        env = gym.make(\"MiniGrid-Empty-5x5-v0\", render_mode=render)\n",
    "    \n",
    "        # Charger la politique apprise\n",
    "        policy_dqn = DQN()  \n",
    "        policy_dqn.load_state_dict(torch.load(\"Minigrid.pt\"))\n",
    "        policy_dqn.eval()  # Passer le modèle en mode évaluation (pas de mise à jour des poids)\n",
    "\n",
    "        for i in range(episodes):\n",
    "            observation, info = env.reset(seed=42)  # Réinitialiser l'environnement à l'état de départ\n",
    "            state = torch.tensor(observation['image'], dtype=torch.float32).permute(2, 0, 1).unsqueeze(0)  # Transformer l'observation\n",
    "            terminated = False  # L'agent a atteint l'objectif ou une condition de fin\n",
    "            truncated = False   # L'agent a pris trop de mesures\n",
    "\n",
    "            # L'agent navigue jusqu'à atteindre une condition de fin\n",
    "            while(not terminated and not truncated):  \n",
    "                # Sélectionner la meilleure action selon la politique apprise\n",
    "                with torch.no_grad():\n",
    "                    action = policy_dqn(state).argmax().item()\n",
    "\n",
    "                # Exécuter l'action\n",
    "                new_observation, reward, terminated, truncated, _ = env.step(action)\n",
    "\n",
    "                # Transformer la nouvelle observation en format compatible avec le CNN\n",
    "                new_state = torch.tensor(new_observation['image'], dtype=torch.float32).permute(2, 0, 1).unsqueeze(0)\n",
    "\n",
    "                # Mettre à jour l'état actuel\n",
    "                state = new_state\n",
    "\n",
    "        env.close()"
   ]
  },
  {
   "cell_type": "markdown",
   "id": "3d93de4f-ac3d-4000-aa72-18737bca09b3",
   "metadata": {},
   "source": [
    "## *Main*"
   ]
  },
  {
   "cell_type": "code",
   "execution_count": 22,
   "id": "4fba07ea-ad4e-4d3b-8736-60b141d0c814",
   "metadata": {},
   "outputs": [
    {
     "name": "stderr",
     "output_type": "stream",
     "text": [
      "Entraînement: 100%|██████████| 500/500 [04:28<00:00,  1.86it/s]\n"
     ]
    },
    {
     "data": {
      "image/png": "[encoded data removed]",
      "text/plain": [
       "<Figure size 640x480 with 1 Axes>"
      ]
     },
     "metadata": {},
     "output_type": "display_data"
    },
    {
     "data": {
      "image/png": "[encoded data removed]",
      "text/plain": [
       "<Figure size 640x480 with 1 Axes>"
      ]
     },
     "metadata": {},
     "output_type": "display_data"
    }
   ],
   "source": [
    "if __name__ == '__main__':\n",
    "\n",
    "    Minigrid = Minigrid()\n",
    "    Minigrid.train(500)\n",
    "    Minigrid.test(5)"
   ]
  },
  {
   "cell_type": "code",
   "execution_count": null,
   "id": "c74ce5a2-20e3-4277-afb2-9111593f4ff8",
   "metadata": {},
   "outputs": [],
   "source": []
  }
 ],
 "metadata": {
  "kernelspec": {
   "display_name": "Python 3 (ipykernel)",
   "language": "python",
   "name": "python3"
  },
  "language_info": {
   "codemirror_mode": {
    "name": "ipython",
    "version": 3
   },
   "file_extension": ".py",
   "mimetype": "text/x-python",
   "name": "python",
   "nbconvert_exporter": "python",
   "pygments_lexer": "ipython3",
   "version": "3.10.14"
  }
 },
 "nbformat": 4,
 "nbformat_minor": 5
}
