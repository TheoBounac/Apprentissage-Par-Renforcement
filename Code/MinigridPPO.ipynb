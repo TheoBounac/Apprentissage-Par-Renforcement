{
 "cells": [
  {
   "cell_type": "markdown",
   "id": "d00d80bc-c6a0-4b05-9eb4-c4ebd46c4a79",
   "metadata": {},
   "source": [
    "### 1. Importations"
   ]
  },
  {
   "cell_type": "code",
   "execution_count": 2,
   "id": "b78d73f0-9ce4-4a9b-a47c-519cf7ecfe14",
   "metadata": {},
   "outputs": [
    {
     "name": "stdout",
     "output_type": "stream",
     "text": [
      "pygame 2.6.1 (SDL 2.28.4, Python 3.12.7)\n",
      "Hello from the pygame community. https://www.pygame.org/contribute.html\n"
     ]
    }
   ],
   "source": [
    "import gymnasium as gym            # Pour l'environnement\n",
    "import numpy as np                 # Pour les calculs\n",
    "import matplotlib.pyplot as plt    # Pour les graphes\n",
    "from collections import deque      # Pour le memory buffer\n",
    "import random                      # Pour le epsilon greedy\n",
    "import torch                       # Pour les reseaux de neuronnes et fonction de retropropagation\n",
    "from torch import nn               #\n",
    "import torch.nn.functional as F    #\n",
    "from stable_baselines3 import PPO\n",
    "from stable_baselines3.common.env_util import make_vec_env\n",
    "from minigrid.wrappers import FlatObsWrapper  # Importer le wrapper pour aplatir les observations\n",
    "from stable_baselines3.common.torch_layers import BaseFeaturesExtractor\n",
    "from minigrid.wrappers import ImgObsWrapper\n",
    "from stable_baselines3.common.vec_env import DummyVecEnv\n",
    "from stable_baselines3.common.evaluation import evaluate_policy\n",
    "import os"
   ]
  },
  {
   "cell_type": "markdown",
   "id": "847e7cab-d655-40d4-8214-75b93ff034ed",
   "metadata": {},
   "source": [
    "### 2. Wrappers"
   ]
  },
  {
   "cell_type": "code",
   "execution_count": 3,
   "id": "8622722a-aadc-4278-bed0-789a352b4b63",
   "metadata": {},
   "outputs": [],
   "source": [
    "class MinigridFeaturesExtractor(BaseFeaturesExtractor):\n",
    "    def __init__(self, observation_space: gym.Space, features_dim: int = 512, normalized_image: bool = False) -> None:\n",
    "        super().__init__(observation_space, features_dim)\n",
    "        n_input_channels = observation_space.shape[0]\n",
    "        self.cnn = nn.Sequential(\n",
    "            nn.Conv2d(n_input_channels, 16, (2, 2)),\n",
    "            nn.ReLU(),\n",
    "            nn.Conv2d(16, 32, (2, 2)),\n",
    "            nn.ReLU(),\n",
    "            nn.Conv2d(32, 64, (2, 2)),\n",
    "            nn.ReLU(),\n",
    "            nn.Flatten(),\n",
    "        )\n",
    "\n",
    "        # Compute shape by doing one forward pass\n",
    "        with torch.no_grad():\n",
    "            n_flatten = self.cnn(torch.as_tensor(observation_space.sample()[None]).float()).shape[1]\n",
    "\n",
    "        self.linear = nn.Sequential(nn.Linear(n_flatten, features_dim), nn.ReLU())\n",
    "\n",
    "    def forward(self, observations: torch.Tensor) -> torch.Tensor:\n",
    "        return self.linear(self.cnn(observations))"
   ]
  },
  {
   "cell_type": "markdown",
   "id": "66851c42-d726-4382-a0d8-dffb5ff95257",
   "metadata": {},
   "source": [
    "### 3. Environnement + Vectorize Env  "
   ]
  },
  {
   "cell_type": "code",
   "execution_count": 3,
   "id": "ffd116fe-9a95-4769-bbc4-f2b13da6476e",
   "metadata": {},
   "outputs": [],
   "source": [
    "policy_kwargs = dict(\n",
    "    features_extractor_class=MinigridFeaturesExtractor,\n",
    "    features_extractor_kwargs=dict(features_dim=128),\n",
    ")"
   ]
  },
  {
   "cell_type": "code",
   "execution_count": 4,
   "id": "f7c37840-66c2-4804-acec-1206761f580a",
   "metadata": {},
   "outputs": [],
   "source": [
    "# Environnement et configuration du modèle\n",
    "env = gym.make(\"MiniGrid-Empty-16x16-v0\", render_mode=\"human\")\n",
    "env.reset()\n",
    "env = ImgObsWrapper(env)"
   ]
  },
  {
   "cell_type": "code",
   "execution_count": 5,
   "id": "258d0075-dbb0-456e-ab80-970692c809d1",
   "metadata": {},
   "outputs": [],
   "source": [
    "env = DummyVecEnv([ lambda:env])"
   ]
  },
  {
   "cell_type": "markdown",
   "id": "c2b85dbd-e0ab-4105-b69a-49474b2bed18",
   "metadata": {},
   "source": [
    "### 4. Train Model + Save training"
   ]
  },
  {
   "cell_type": "code",
   "execution_count": null,
   "id": "e151d8fe-2a9a-4c47-90e6-f952787c6356",
   "metadata": {},
   "outputs": [],
   "source": [
    "log_path = os.path.join('Minigrid','Training', 'Logs')"
   ]
  },
  {
   "cell_type": "code",
   "execution_count": null,
   "id": "07d9181a-00cb-4487-a5cc-1fc27c1b0284",
   "metadata": {
    "scrolled": true
   },
   "outputs": [],
   "source": [
    "model = PPO(\"CnnPolicy\", env, policy_kwargs=policy_kwargs, verbose=1, tensorboard_log=log_path)\n",
    "model.learn(total_timesteps=20000,tb_log_name=\"PPO\")"
   ]
  },
  {
   "cell_type": "markdown",
   "id": "784b986d-fb81-4fe0-bbce-1e91038d7810",
   "metadata": {},
   "source": [
    "### 4BIS. ReTrain"
   ]
  },
  {
   "cell_type": "code",
   "execution_count": null,
   "id": "1a8fe55d-2c18-4e50-b236-f5831eb9839a",
   "metadata": {},
   "outputs": [],
   "source": [
    "PPO_path = os.path.join('Minigrid','Training', 'Saved_Models', 'PPO_Minigrid_model')"
   ]
  },
  {
   "cell_type": "code",
   "execution_count": null,
   "id": "ae971ca9-b604-4b9c-8d84-f9c32f5afe15",
   "metadata": {},
   "outputs": [],
   "source": [
    "env = gym.make(\"MiniGrid-Empty-16x16-v0\", render_mode=\"rgb_array\")\n",
    "env = ImgObsWrapper(env)"
   ]
  },
  {
   "cell_type": "code",
   "execution_count": null,
   "id": "a96bd8f4-2c6f-4179-8024-aa4ea614e98e",
   "metadata": {},
   "outputs": [],
   "source": [
    "env = DummyVecEnv([ lambda:env])"
   ]
  },
  {
   "cell_type": "code",
   "execution_count": null,
   "id": "de3c1cab-e933-4503-ba73-71933ab4d1d6",
   "metadata": {},
   "outputs": [],
   "source": [
    "model=PPO.load(PPO_path, env=env)"
   ]
  },
  {
   "cell_type": "code",
   "execution_count": null,
   "id": "991bb743-df25-4e05-910d-87088284a406",
   "metadata": {
    "scrolled": true
   },
   "outputs": [],
   "source": [
    "model.learn(total_timesteps=10000000,tb_log_name=\"PPO\")"
   ]
  },
  {
   "cell_type": "markdown",
   "id": "393eb12d-b748-406a-a337-d612af7084ef",
   "metadata": {},
   "source": [
    "### 5. Save Model"
   ]
  },
  {
   "cell_type": "code",
   "execution_count": null,
   "id": "ab79c54e-44ca-4c8f-bdd1-1d619012191f",
   "metadata": {},
   "outputs": [],
   "source": [
    "PPO_path = os.path.join('Minigrid','Training', 'Saved_Models', 'PPO_Minigrid_model')"
   ]
  },
  {
   "cell_type": "code",
   "execution_count": null,
   "id": "b440f528-7ccb-4417-9133-c46bc6d0fbf7",
   "metadata": {},
   "outputs": [],
   "source": [
    "model.save(PPO_path)"
   ]
  },
  {
   "cell_type": "code",
   "execution_count": null,
   "id": "095e9095-2c44-460d-95a9-b8217d7c4859",
   "metadata": {},
   "outputs": [],
   "source": [
    "del model"
   ]
  },
  {
   "cell_type": "markdown",
   "id": "3e4d94b5-19d7-40d0-ada9-974053b8a0ec",
   "metadata": {},
   "source": [
    "### 6. Test Model"
   ]
  },
  {
   "cell_type": "code",
   "execution_count": 4,
   "id": "956b761f-0762-40d9-971b-2fa06fbf7648",
   "metadata": {},
   "outputs": [],
   "source": [
    "PPO_path = os.path.join('Minigrid','Training', 'Saved_Models', 'PPO_Minigrid_model')"
   ]
  },
  {
   "cell_type": "code",
   "execution_count": 5,
   "id": "3cad3613-b6a7-47db-bc0c-5e3ff35d5d9d",
   "metadata": {},
   "outputs": [],
   "source": [
    "env = gym.make(\"MiniGrid-Empty-16x16-v0\", render_mode=\"human\")\n",
    "env = ImgObsWrapper(env)"
   ]
  },
  {
   "cell_type": "code",
   "execution_count": 6,
   "id": "2ffee2c8-46e0-4e3a-a554-396de83fbc33",
   "metadata": {},
   "outputs": [
    {
     "name": "stdout",
     "output_type": "stream",
     "text": [
      "Wrapping the env with a `Monitor` wrapper\n",
      "Wrapping the env in a DummyVecEnv.\n",
      "Wrapping the env in a VecTransposeImage.\n"
     ]
    }
   ],
   "source": [
    "model=PPO.load(PPO_path, env=env)"
   ]
  },
  {
   "cell_type": "code",
   "execution_count": 7,
   "id": "8580ea51-e426-4f35-910c-28dc2c2b05ba",
   "metadata": {},
   "outputs": [
    {
     "name": "stderr",
     "output_type": "stream",
     "text": [
      "/home/the/anaconda3/envs/Tuto_StableBaselines/lib/python3.12/site-packages/stable_baselines3/common/evaluation.py:67: UserWarning: Evaluation environment is not wrapped with a ``Monitor`` wrapper. This may result in reporting modified episode lengths and rewards, if other wrappers happen to modify these. Consider wrapping environment first with ``Monitor`` wrapper.\n",
      "  warnings.warn(\n"
     ]
    },
    {
     "data": {
      "text/plain": [
       "(np.float64(0.976269543170929), np.float64(0.0))"
      ]
     },
     "execution_count": 7,
     "metadata": {},
     "output_type": "execute_result"
    }
   ],
   "source": [
    "evaluate_policy(model, env, n_eval_episodes=10)"
   ]
  },
  {
   "cell_type": "markdown",
   "id": "072263a1-27cd-4f62-b573-8237c45a0c82",
   "metadata": {},
   "source": [
    "### 7. Tensorboard"
   ]
  },
  {
   "cell_type": "code",
   "execution_count": 8,
   "id": "fbc0f13f-dd40-4f58-8205-b70a32941940",
   "metadata": {},
   "outputs": [],
   "source": [
    "training_log_path=os.path.join('Minigrid','Training', 'Logs','PPO_3')"
   ]
  },
  {
   "cell_type": "code",
   "execution_count": 9,
   "id": "eec0cda9-cb96-410c-99ed-e34bc705391d",
   "metadata": {},
   "outputs": [
    {
     "data": {
      "text/plain": [
       "'Minigrid/Training/Logs/PPO_3'"
      ]
     },
     "execution_count": 9,
     "metadata": {},
     "output_type": "execute_result"
    }
   ],
   "source": [
    "training_log_path"
   ]
  },
  {
   "cell_type": "code",
   "execution_count": null,
   "id": "33d41d78-9ad1-4249-a1bb-3b043d7101ce",
   "metadata": {},
   "outputs": [
    {
     "name": "stdout",
     "output_type": "stream",
     "text": [
      "TensorFlow installation not found - running with reduced feature set.\n",
      "\n",
      "NOTE: Using experimental fast data loading logic. To disable, pass\n",
      "    \"--load_fast=false\" and report issues on GitHub. More details:\n",
      "    https://github.com/tensorflow/tensorboard/issues/4784\n",
      "\n",
      "Serving TensorBoard on localhost; to expose to the network, use a proxy or pass --bind_all\n",
      "TensorBoard 2.18.0 at http://localhost:6006/ (Press CTRL+C to quit)\n"
     ]
    }
   ],
   "source": [
    "!tensorboard --logdir={training_log_path}"
   ]
  },
  {
   "cell_type": "code",
   "execution_count": null,
   "id": "b2aa3cd2-06a6-48ae-bb88-08851b5f97e5",
   "metadata": {},
   "outputs": [],
   "source": []
  }
 ],
 "metadata": {
  "kernelspec": {
   "display_name": "Python 3 (ipykernel)",
   "language": "python",
   "name": "python3"
  },
  "language_info": {
   "codemirror_mode": {
    "name": "ipython",
    "version": 3
   },
   "file_extension": ".py",
   "mimetype": "text/x-python",
   "name": "python",
   "nbconvert_exporter": "python",
   "pygments_lexer": "ipython3",
   "version": "3.12.7"
  }
 },
 "nbformat": 4,
 "nbformat_minor": 5
}
